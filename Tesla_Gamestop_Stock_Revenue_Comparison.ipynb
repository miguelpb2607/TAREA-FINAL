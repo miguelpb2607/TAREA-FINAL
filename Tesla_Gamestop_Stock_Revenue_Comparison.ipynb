{
 "cells": [
  {
   "cell_type": "code",
   "execution_count": null,
   "id": "9c7e6c1a-1ac3-4d3d-a76e-09c0beecb3d6",
   "metadata": {},
   "outputs": [],
   "source": [
    "pip install yfinance pandas matplotlib beautifulsoup4 requests\n"
   ]
  },
  {
   "cell_type": "code",
   "execution_count": 1,
   "id": "15d1f928-3603-4d57-baae-8017bd6394e3",
   "metadata": {},
   "outputs": [
    {
     "ename": "ModuleNotFoundError",
     "evalue": "No module named 'yfinance'",
     "output_type": "error",
     "traceback": [
      "\u001b[0;31m---------------------------------------------------------------------------\u001b[0m",
      "\u001b[0;31mModuleNotFoundError\u001b[0m                       Traceback (most recent call last)",
      "Cell \u001b[0;32mIn[1], line 1\u001b[0m\n\u001b[0;32m----> 1\u001b[0m \u001b[38;5;28;01mimport\u001b[39;00m \u001b[38;5;21;01myfinance\u001b[39;00m \u001b[38;5;28;01mas\u001b[39;00m \u001b[38;5;21;01myf\u001b[39;00m\n\u001b[1;32m      2\u001b[0m \u001b[38;5;28;01mimport\u001b[39;00m \u001b[38;5;21;01mpandas\u001b[39;00m \u001b[38;5;28;01mas\u001b[39;00m \u001b[38;5;21;01mpd\u001b[39;00m\n\u001b[1;32m      3\u001b[0m \u001b[38;5;28;01mimport\u001b[39;00m \u001b[38;5;21;01mmatplotlib\u001b[39;00m\u001b[38;5;21;01m.\u001b[39;00m\u001b[38;5;21;01mpyplot\u001b[39;00m \u001b[38;5;28;01mas\u001b[39;00m \u001b[38;5;21;01mplt\u001b[39;00m\n",
      "\u001b[0;31mModuleNotFoundError\u001b[0m: No module named 'yfinance'"
     ]
    }
   ],
   "source": [
    "import yfinance as yf\n",
    "import pandas as pd\n",
    "import matplotlib.pyplot as plt\n"
   ]
  },
  {
   "cell_type": "code",
   "execution_count": 2,
   "id": "507166dc-6a33-4c06-847d-b723236b80c9",
   "metadata": {},
   "outputs": [
    {
     "ename": "NameError",
     "evalue": "name 'yf' is not defined",
     "output_type": "error",
     "traceback": [
      "\u001b[0;31m---------------------------------------------------------------------------\u001b[0m",
      "\u001b[0;31mNameError\u001b[0m                                 Traceback (most recent call last)",
      "Cell \u001b[0;32mIn[2], line 1\u001b[0m\n\u001b[0;32m----> 1\u001b[0m tesla_data \u001b[38;5;241m=\u001b[39m \u001b[43myf\u001b[49m\u001b[38;5;241m.\u001b[39mTicker(\u001b[38;5;124m\"\u001b[39m\u001b[38;5;124mTSLA\u001b[39m\u001b[38;5;124m\"\u001b[39m)\n\u001b[1;32m      2\u001b[0m tesla_stock \u001b[38;5;241m=\u001b[39m tesla_data\u001b[38;5;241m.\u001b[39mhistory(period\u001b[38;5;241m=\u001b[39m\u001b[38;5;124m\"\u001b[39m\u001b[38;5;124mmax\u001b[39m\u001b[38;5;124m\"\u001b[39m)\n\u001b[1;32m      3\u001b[0m tesla_stock\u001b[38;5;241m.\u001b[39mreset_index(inplace\u001b[38;5;241m=\u001b[39m\u001b[38;5;28;01mTrue\u001b[39;00m)\n",
      "\u001b[0;31mNameError\u001b[0m: name 'yf' is not defined"
     ]
    }
   ],
   "source": [
    "tesla_data = yf.Ticker(\"TSLA\")\n",
    "tesla_stock = tesla_data.history(period=\"max\")\n",
    "tesla_stock.reset_index(inplace=True)\n"
   ]
  },
  {
   "cell_type": "code",
   "execution_count": 3,
   "id": "1163e240-3e8d-4afd-813e-69d6cf987799",
   "metadata": {},
   "outputs": [
    {
     "ename": "NameError",
     "evalue": "name 'tesla_stock' is not defined",
     "output_type": "error",
     "traceback": [
      "\u001b[0;31m---------------------------------------------------------------------------\u001b[0m",
      "\u001b[0;31mNameError\u001b[0m                                 Traceback (most recent call last)",
      "Cell \u001b[0;32mIn[3], line 1\u001b[0m\n\u001b[0;32m----> 1\u001b[0m \u001b[43mtesla_stock\u001b[49m\u001b[38;5;241m.\u001b[39mhead()\n",
      "\u001b[0;31mNameError\u001b[0m: name 'tesla_stock' is not defined"
     ]
    }
   ],
   "source": [
    "tesla_stock.head()\n"
   ]
  },
  {
   "cell_type": "code",
   "execution_count": null,
   "id": "1f42bf4d-b929-4aa3-878b-16fe1d9d5add",
   "metadata": {},
   "outputs": [],
   "source": [
    "from bs4 import BeautifulSoup\n",
    "import requests\n"
   ]
  },
  {
   "cell_type": "code",
   "execution_count": null,
   "id": "40aceeb9-e75c-4a92-a4cc-ffc884207037",
   "metadata": {},
   "outputs": [],
   "source": [
    "url = \"https://www.macrotrends.net/stocks/charts/TSLA/tesla/revenue\"\n",
    "html_data = requests.get(url).text\n",
    "soup = BeautifulSoup(html_data, 'html.parser')\n",
    "\n",
    "tables = soup.find_all('table')\n",
    "for index, table in enumerate(tables):\n",
    "    if 'Tesla Quarterly Revenue' in str(table):\n",
    "        tesla_revenue = pd.read_html(str(table))[0]\n",
    "        break\n",
    "tesla_revenue.columns = ['Date', 'Revenue']\n",
    "tesla_revenue.dropna(inplace=True)\n"
   ]
  },
  {
   "cell_type": "code",
   "execution_count": null,
   "id": "143a4adc-0343-4482-bea4-7803c8686285",
   "metadata": {},
   "outputs": [],
   "source": [
    "tesla_revenue.head()\n"
   ]
  },
  {
   "cell_type": "code",
   "execution_count": null,
   "id": "d9f35a6c-a5c6-4931-8572-f3facbd3e210",
   "metadata": {},
   "outputs": [],
   "source": [
    "gamestop_data = yf.Ticker(\"GME\")\n",
    "gamestop_stock = gamestop_data.history(period=\"max\")\n",
    "gamestop_stock.reset_index(inplace=True)\n"
   ]
  },
  {
   "cell_type": "code",
   "execution_count": null,
   "id": "5cf6a396-e306-4c03-b6f6-ab7c7f3983e4",
   "metadata": {},
   "outputs": [],
   "source": [
    "gamestop_stock.head()\n"
   ]
  },
  {
   "cell_type": "code",
   "execution_count": null,
   "id": "5d26de60-858b-44c3-837c-777d978befff",
   "metadata": {},
   "outputs": [],
   "source": [
    "url = \"https://www.macrotrends.net/stocks/charts/GME/gamestop/revenue\"\n",
    "html_data = requests.get(url).text\n",
    "soup = BeautifulSoup(html_data, 'html.parser')\n",
    "\n",
    "tables = soup.find_all('table')\n",
    "for index, table in enumerate(tables):\n",
    "    if 'GameStop Quarterly Revenue' in str(table):\n",
    "        gamestop_revenue = pd.read_html(str(table))[0]\n",
    "        break\n",
    "gamestop_revenue.columns = ['Date', 'Revenue']\n",
    "gamestop_revenue.dropna(inplace=True)\n"
   ]
  },
  {
   "cell_type": "code",
   "execution_count": null,
   "id": "47702f88-d96c-4ce0-aec5-6b638d8b900e",
   "metadata": {},
   "outputs": [],
   "source": [
    "gamestop_revenue.head()\n"
   ]
  },
  {
   "cell_type": "code",
   "execution_count": null,
   "id": "fb6e6c39-530c-4944-907f-9cc42fdf6d1c",
   "metadata": {},
   "outputs": [],
   "source": [
    "fig, ax1 = plt.subplots(figsize=(14, 8))\n",
    "\n",
    "ax1.set_xlabel('Date')\n",
    "ax1.set_ylabel('Tesla Stock Price', color='tab:blue')\n",
    "ax1.plot(tesla_stock['Date'], tesla_stock['Close'], color='tab:blue')\n",
    "\n",
    "ax2 = ax1.twinx()\n",
    "ax2.set_ylabel('Tesla Revenue', color='tab:red')\n",
    "ax2.plot(pd.to_datetime(tesla_revenue['Date']), tesla_revenue['Revenue'].str.replace(',', '').astype(float), color='tab:red')\n",
    "\n",
    "plt.title('Tesla Stock Price vs Revenue')\n",
    "plt.show()\n"
   ]
  },
  {
   "cell_type": "code",
   "execution_count": null,
   "id": "ffc16385-202f-4285-9048-26d8beb6b04e",
   "metadata": {},
   "outputs": [],
   "source": [
    "fig, ax1 = plt.subplots(figsize=(14, 8))\n",
    "\n",
    "ax1.set_xlabel('Date')\n",
    "ax1.set_ylabel('GameStop Stock Price', color='tab:blue')\n",
    "ax1.plot(gamestop_stock['Date'], gamestop_stock['Close'], color='tab:blue')\n",
    "\n",
    "ax2 = ax1.twinx()\n",
    "ax2.set_ylabel('GameStop Revenue', color='tab:red')\n",
    "ax2.plot(pd.to_datetime(gamestop_revenue['Date']), gamestop_revenue['Revenue'].str.replace(',', '').astype(float), color='tab:red')\n",
    "\n",
    "plt.title('GameStop Stock Price vs Revenue')\n",
    "plt.show()\n"
   ]
  },
  {
   "cell_type": "code",
   "execution_count": null,
   "id": "acfc11d6-2392-40a4-bc31-a2f1f3452436",
   "metadata": {},
   "outputs": [],
   "source": [
    "fig, ax1 = plt.subplots(figsize=(14, 8))\n",
    "\n",
    "ax1.set_xlabel('Date')\n",
    "ax1.set_ylabel('GameStop Stock Price', color='tab:blue')\n",
    "ax1.plot(gamestop_stock['Date'], gamestop_stock['Close'], color='tab:blue')\n",
    "\n",
    "ax2 = ax1.twinx()\n",
    "ax2.set_ylabel('GameStop Revenue', color='tab:red')\n",
    "ax2.plot(pd.to_datetime(gamestop_revenue['Date']), gamestop_revenue['Revenue'].str.replace(',', '').astype(float), color='tab:red')\n",
    "\n",
    "plt.title('GameStop Stock Price vs Revenue')\n",
    "plt.show()\n"
   ]
  }
 ],
 "metadata": {
  "kernelspec": {
   "display_name": "Python 3 (ipykernel)",
   "language": "python",
   "name": "python3"
  },
  "language_info": {
   "codemirror_mode": {
    "name": "ipython",
    "version": 3
   },
   "file_extension": ".py",
   "mimetype": "text/x-python",
   "name": "python",
   "nbconvert_exporter": "python",
   "pygments_lexer": "ipython3",
   "version": "3.11.9"
  }
 },
 "nbformat": 4,
 "nbformat_minor": 5
}
